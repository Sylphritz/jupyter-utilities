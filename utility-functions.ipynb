{
 "cells": [
  {
   "cell_type": "markdown",
   "id": "391b1ebe",
   "metadata": {},
   "source": [
    "# Introduction\n",
    "\n",
    "This is a notebook for storing useful utility functions and useful copy/paste cells for various purposes.\n",
    "\n",
    "So far, there are:\n",
    "- A function that displays the information of each feature of a dataframe.\n",
    "- A function that trains all ML models at once and print out the results along with returning them as a list.\n",
    "- A cell that installs all various machine learning frameworks."
   ]
  },
  {
   "cell_type": "code",
   "execution_count": 59,
   "id": "87bfb9dc",
   "metadata": {},
   "outputs": [],
   "source": [
    "# Import libraries\n",
    "import pandas as pd\n",
    "import numpy as np"
   ]
  },
  {
   "cell_type": "markdown",
   "id": "d7f28132",
   "metadata": {},
   "source": [
    "# Display Information of a DataFrame\n",
    "\n",
    "Displays the following information of each feature of a dataframe:\n",
    "- Total rows and columns\n",
    "- Column Name\n",
    "- dtype\n",
    "- Number of missing rows\n",
    "- Number of unique values\n",
    "- Minimum value\n",
    "- Maximum value\n",
    "- Mean\n",
    "- Median"
   ]
  },
  {
   "cell_type": "code",
   "execution_count": 5,
   "id": "849bc2f0",
   "metadata": {},
   "outputs": [
    {
     "data": {
      "text/plain": [
       "False"
      ]
     },
     "execution_count": 5,
     "metadata": {},
     "output_type": "execute_result"
    }
   ],
   "source": [
    "# Check to make sure that the function name is not a reserved keyword\n",
    "import keyword\n",
    "keyword.iskeyword('scan')"
   ]
  },
  {
   "cell_type": "code",
   "execution_count": 40,
   "id": "6414ea7b",
   "metadata": {},
   "outputs": [],
   "source": [
    "# A function for displaying crucial information about a dataframe all in one go\n",
    "def scan(df):\n",
    "    '''\n",
    "    Displays the following information of each feature in a dataframe:\n",
    "    - Total rows and columns\n",
    "    - Column Name\n",
    "    - dtype\n",
    "    - Number of missing rows\n",
    "    - Number of unique values\n",
    "    - Minimum value\n",
    "    - Maximum value\n",
    "    - Mean\n",
    "    - Median\n",
    "    '''\n",
    "    print(f'Rows: {len(df)}')\n",
    "    print(f'Columns: {len(df.columns)}')\n",
    "    summary = pd.DataFrame(df.dtypes, columns=['dtypes'])\n",
    "    summary['Missing'] = df.isna().sum()\n",
    "    summary['Uniques'] = df.nunique()\n",
    "    summary['Min'] = df.min(numeric_only=True)\n",
    "    summary['Max'] = df.max(numeric_only=True)\n",
    "    summary['Mean'] = df.mean(numeric_only=True)\n",
    "    summary['Median'] = df.median(numeric_only=True)\n",
    "    \n",
    "    return summary"
   ]
  },
  {
   "cell_type": "code",
   "execution_count": 80,
   "id": "3e590a40",
   "metadata": {},
   "outputs": [
    {
     "name": "stdout",
     "output_type": "stream",
     "text": [
      "Rows: 10000\n",
      "Columns: 14\n"
     ]
    },
    {
     "data": {
      "text/html": [
       "<div>\n",
       "<style scoped>\n",
       "    .dataframe tbody tr th:only-of-type {\n",
       "        vertical-align: middle;\n",
       "    }\n",
       "\n",
       "    .dataframe tbody tr th {\n",
       "        vertical-align: top;\n",
       "    }\n",
       "\n",
       "    .dataframe thead th {\n",
       "        text-align: right;\n",
       "    }\n",
       "</style>\n",
       "<table border=\"1\" class=\"dataframe\">\n",
       "  <thead>\n",
       "    <tr style=\"text-align: right;\">\n",
       "      <th></th>\n",
       "      <th>dtypes</th>\n",
       "      <th>Missing</th>\n",
       "      <th>Uniques</th>\n",
       "      <th>Min</th>\n",
       "      <th>Max</th>\n",
       "      <th>Mean</th>\n",
       "      <th>Median</th>\n",
       "    </tr>\n",
       "  </thead>\n",
       "  <tbody>\n",
       "    <tr>\n",
       "      <th>UDI</th>\n",
       "      <td>int64</td>\n",
       "      <td>0</td>\n",
       "      <td>10000</td>\n",
       "      <td>1.0</td>\n",
       "      <td>10000.0</td>\n",
       "      <td>5000.50000</td>\n",
       "      <td>5000.5</td>\n",
       "    </tr>\n",
       "    <tr>\n",
       "      <th>Product ID</th>\n",
       "      <td>object</td>\n",
       "      <td>0</td>\n",
       "      <td>10000</td>\n",
       "      <td>NaN</td>\n",
       "      <td>NaN</td>\n",
       "      <td>NaN</td>\n",
       "      <td>NaN</td>\n",
       "    </tr>\n",
       "    <tr>\n",
       "      <th>Type</th>\n",
       "      <td>object</td>\n",
       "      <td>0</td>\n",
       "      <td>3</td>\n",
       "      <td>NaN</td>\n",
       "      <td>NaN</td>\n",
       "      <td>NaN</td>\n",
       "      <td>NaN</td>\n",
       "    </tr>\n",
       "    <tr>\n",
       "      <th>Air temperature [K]</th>\n",
       "      <td>float64</td>\n",
       "      <td>0</td>\n",
       "      <td>93</td>\n",
       "      <td>295.3</td>\n",
       "      <td>304.5</td>\n",
       "      <td>300.00493</td>\n",
       "      <td>300.1</td>\n",
       "    </tr>\n",
       "    <tr>\n",
       "      <th>Process temperature [K]</th>\n",
       "      <td>float64</td>\n",
       "      <td>0</td>\n",
       "      <td>82</td>\n",
       "      <td>305.7</td>\n",
       "      <td>313.8</td>\n",
       "      <td>310.00556</td>\n",
       "      <td>310.1</td>\n",
       "    </tr>\n",
       "    <tr>\n",
       "      <th>Rotational speed [rpm]</th>\n",
       "      <td>int64</td>\n",
       "      <td>0</td>\n",
       "      <td>941</td>\n",
       "      <td>1168.0</td>\n",
       "      <td>2886.0</td>\n",
       "      <td>1538.77610</td>\n",
       "      <td>1503.0</td>\n",
       "    </tr>\n",
       "    <tr>\n",
       "      <th>Torque [Nm]</th>\n",
       "      <td>float64</td>\n",
       "      <td>0</td>\n",
       "      <td>577</td>\n",
       "      <td>3.8</td>\n",
       "      <td>76.6</td>\n",
       "      <td>39.98691</td>\n",
       "      <td>40.1</td>\n",
       "    </tr>\n",
       "    <tr>\n",
       "      <th>Tool wear [min]</th>\n",
       "      <td>int64</td>\n",
       "      <td>0</td>\n",
       "      <td>246</td>\n",
       "      <td>0.0</td>\n",
       "      <td>253.0</td>\n",
       "      <td>107.95100</td>\n",
       "      <td>108.0</td>\n",
       "    </tr>\n",
       "    <tr>\n",
       "      <th>Machine failure</th>\n",
       "      <td>int64</td>\n",
       "      <td>0</td>\n",
       "      <td>2</td>\n",
       "      <td>0.0</td>\n",
       "      <td>1.0</td>\n",
       "      <td>0.03390</td>\n",
       "      <td>0.0</td>\n",
       "    </tr>\n",
       "    <tr>\n",
       "      <th>TWF</th>\n",
       "      <td>int64</td>\n",
       "      <td>0</td>\n",
       "      <td>2</td>\n",
       "      <td>0.0</td>\n",
       "      <td>1.0</td>\n",
       "      <td>0.00460</td>\n",
       "      <td>0.0</td>\n",
       "    </tr>\n",
       "    <tr>\n",
       "      <th>HDF</th>\n",
       "      <td>int64</td>\n",
       "      <td>0</td>\n",
       "      <td>2</td>\n",
       "      <td>0.0</td>\n",
       "      <td>1.0</td>\n",
       "      <td>0.01150</td>\n",
       "      <td>0.0</td>\n",
       "    </tr>\n",
       "    <tr>\n",
       "      <th>PWF</th>\n",
       "      <td>int64</td>\n",
       "      <td>0</td>\n",
       "      <td>2</td>\n",
       "      <td>0.0</td>\n",
       "      <td>1.0</td>\n",
       "      <td>0.00950</td>\n",
       "      <td>0.0</td>\n",
       "    </tr>\n",
       "    <tr>\n",
       "      <th>OSF</th>\n",
       "      <td>int64</td>\n",
       "      <td>0</td>\n",
       "      <td>2</td>\n",
       "      <td>0.0</td>\n",
       "      <td>1.0</td>\n",
       "      <td>0.00980</td>\n",
       "      <td>0.0</td>\n",
       "    </tr>\n",
       "    <tr>\n",
       "      <th>RNF</th>\n",
       "      <td>int64</td>\n",
       "      <td>0</td>\n",
       "      <td>2</td>\n",
       "      <td>0.0</td>\n",
       "      <td>1.0</td>\n",
       "      <td>0.00190</td>\n",
       "      <td>0.0</td>\n",
       "    </tr>\n",
       "  </tbody>\n",
       "</table>\n",
       "</div>"
      ],
      "text/plain": [
       "                          dtypes  Missing  Uniques     Min      Max  \\\n",
       "UDI                        int64        0    10000     1.0  10000.0   \n",
       "Product ID                object        0    10000     NaN      NaN   \n",
       "Type                      object        0        3     NaN      NaN   \n",
       "Air temperature [K]      float64        0       93   295.3    304.5   \n",
       "Process temperature [K]  float64        0       82   305.7    313.8   \n",
       "Rotational speed [rpm]     int64        0      941  1168.0   2886.0   \n",
       "Torque [Nm]              float64        0      577     3.8     76.6   \n",
       "Tool wear [min]            int64        0      246     0.0    253.0   \n",
       "Machine failure            int64        0        2     0.0      1.0   \n",
       "TWF                        int64        0        2     0.0      1.0   \n",
       "HDF                        int64        0        2     0.0      1.0   \n",
       "PWF                        int64        0        2     0.0      1.0   \n",
       "OSF                        int64        0        2     0.0      1.0   \n",
       "RNF                        int64        0        2     0.0      1.0   \n",
       "\n",
       "                               Mean  Median  \n",
       "UDI                      5000.50000  5000.5  \n",
       "Product ID                      NaN     NaN  \n",
       "Type                            NaN     NaN  \n",
       "Air temperature [K]       300.00493   300.1  \n",
       "Process temperature [K]   310.00556   310.1  \n",
       "Rotational speed [rpm]   1538.77610  1503.0  \n",
       "Torque [Nm]                39.98691    40.1  \n",
       "Tool wear [min]           107.95100   108.0  \n",
       "Machine failure             0.03390     0.0  \n",
       "TWF                         0.00460     0.0  \n",
       "HDF                         0.01150     0.0  \n",
       "PWF                         0.00950     0.0  \n",
       "OSF                         0.00980     0.0  \n",
       "RNF                         0.00190     0.0  "
      ]
     },
     "execution_count": 80,
     "metadata": {},
     "output_type": "execute_result"
    }
   ],
   "source": [
    "# Import dummy data\n",
    "data = pd.read_csv('data/machine failure.csv')\n",
    "\n",
    "scan(data)"
   ]
  },
  {
   "cell_type": "markdown",
   "id": "784cd8e1",
   "metadata": {},
   "source": [
    "# Score Multiple Given Models In One Go\n",
    "\n",
    "Fit and score multiple machine learning models all in one go, print out the progress, and return a list of scores.\n",
    "\n",
    "## Use Cases\n",
    "\n",
    "You can use it for various cases, such as:\n",
    "- Quickly compare multiple models to decide which ones you want to continue working with.\n",
    "- See how the score might improve on various model based on the features you've engineered."
   ]
  },
  {
   "cell_type": "code",
   "execution_count": 44,
   "id": "42eb8847",
   "metadata": {},
   "outputs": [
    {
     "data": {
      "text/plain": [
       "False"
      ]
     },
     "execution_count": 44,
     "metadata": {},
     "output_type": "execute_result"
    }
   ],
   "source": [
    "# Check to make sure that the function name is not a reserved keyword\n",
    "import keyword\n",
    "keyword.iskeyword('scorebulk')"
   ]
  },
  {
   "cell_type": "code",
   "execution_count": 74,
   "id": "d918866c",
   "metadata": {},
   "outputs": [],
   "source": [
    "from sklearn.model_selection import cross_val_score, StratifiedKFold\n",
    "\n",
    "def scorebulk(X, y, models, scoring='accuracy', cv=5, random_state=22):\n",
    "    print(f'Evaluating {len(models)} models...')\n",
    "    print(f'Scoring: {scoring}')\n",
    "    print(f'Cross-validation folds: {cv}')\n",
    "    print(f'================================')\n",
    "    scores = {}\n",
    "    skf = StratifiedKFold(n_splits=cv)\n",
    "    for model_name, model in models.items():\n",
    "        print(f'Evaluating {model_name}...', end='')\n",
    "        scores[model_name] = np.mean(cross_val_score(model, X, y, scoring=scoring, cv=skf, n_jobs=-1))\n",
    "        print('Done.')\n",
    "    \n",
    "    return scores"
   ]
  },
  {
   "cell_type": "code",
   "execution_count": 53,
   "id": "37ac0092",
   "metadata": {},
   "outputs": [
    {
     "name": "stdout",
     "output_type": "stream",
     "text": [
      "Collecting package metadata (current_repodata.json): ...working... done\n",
      "Solving environment: ...working... done\n",
      "\n",
      "# All requested packages already installed.\n",
      "\n"
     ]
    }
   ],
   "source": [
    "import sys\n",
    "!conda install -q --yes --prefix {sys.prefix} -c conda-forge catboost xgboost lightgbm"
   ]
  },
  {
   "cell_type": "code",
   "execution_count": 79,
   "id": "b79729a3",
   "metadata": {},
   "outputs": [
    {
     "name": "stdout",
     "output_type": "stream",
     "text": [
      "Evaluating 7 models...\n",
      "Scoring: roc_auc\n",
      "Cross-validation folds: 10\n",
      "================================\n",
      "Evaluating RandomForestClassifier...Done.\n",
      "Evaluating GradientBoostingClassifier...Done.\n",
      "Evaluating AdaBoostClassifier...Done.\n",
      "Evaluating XGBClassifier...Done.\n",
      "Evaluating CatBoostClassifier...Done.\n",
      "Evaluating LGBMClassifier...Done.\n",
      "Evaluating HistGradientBoostingClassifier...Done.\n"
     ]
    },
    {
     "data": {
      "text/plain": [
       "{'RandomForestClassifier': 0.986448057483863,\n",
       " 'GradientBoostingClassifier': 0.9880253171364315,\n",
       " 'AdaBoostClassifier': 0.9884149311898673,\n",
       " 'XGBClassifier': 0.9910851297040555,\n",
       " 'CatBoostClassifier': 0.9930215564486664,\n",
       " 'LGBMClassifier': 0.9911795152843746,\n",
       " 'HistGradientBoostingClassifier': 0.9888335769090244}"
      ]
     },
     "execution_count": 79,
     "metadata": {},
     "output_type": "execute_result"
    }
   ],
   "source": [
    "from xgboost import XGBClassifier\n",
    "from catboost import CatBoostClassifier\n",
    "from lightgbm import LGBMClassifier\n",
    "from sklearn.ensemble import AdaBoostClassifier\n",
    "from sklearn.ensemble import GradientBoostingClassifier\n",
    "from sklearn.ensemble import RandomForestClassifier\n",
    "from sklearn.ensemble import HistGradientBoostingClassifier\n",
    "# from sklearn.ensemble import VotingClassifier\n",
    "\n",
    "models = {'RandomForestClassifier': RandomForestClassifier(),\n",
    "          'GradientBoostingClassifier': GradientBoostingClassifier(),\n",
    "          'AdaBoostClassifier': AdaBoostClassifier(),\n",
    "          'XGBClassifier': XGBClassifier(),\n",
    "          'CatBoostClassifier': CatBoostClassifier(silent=True),\n",
    "          'LGBMClassifier': LGBMClassifier(),\n",
    "          'HistGradientBoostingClassifier': HistGradientBoostingClassifier(),\n",
    "#           'VotingClassifier': VotingClassifier()\n",
    "         }\n",
    "\n",
    "data = pd.read_csv('data/machine failure.csv')\n",
    "data = data.drop('Product ID', axis=1).drop('Type', axis=1).drop('UDI', axis=1)\n",
    "data.columns = data.columns.str.replace('[\\[\\]\\<\\>]', '', regex=True)\n",
    "\n",
    "X = data.drop('Machine failure', axis=1)\n",
    "y = data['Machine failure']\n",
    "\n",
    "results = scorebulk(X, y, models, scoring='roc_auc', cv=10)\n",
    "results"
   ]
  },
  {
   "cell_type": "markdown",
   "id": "1d8ccaea",
   "metadata": {},
   "source": [
    "# Install Machine Learning Frameworks\n",
    "\n",
    "The following cell will install various machine learning frameworks to the current environment the Jupyter Notebook instance is running on. It will skip the ones you already have installed."
   ]
  },
  {
   "cell_type": "code",
   "execution_count": 65,
   "id": "74ee38b9",
   "metadata": {},
   "outputs": [
    {
     "name": "stdout",
     "output_type": "stream",
     "text": [
      "Collecting package metadata (current_repodata.json): ...working... done\n",
      "Solving environment: ...working... done\n",
      "\n",
      "# All requested packages already installed.\n",
      "\n"
     ]
    }
   ],
   "source": [
    "import sys\n",
    "!conda install -q --yes --prefix {sys.prefix} -c conda-forge catboost xgboost lightgbm"
   ]
  },
  {
   "cell_type": "code",
   "execution_count": null,
   "id": "aa80aedb",
   "metadata": {},
   "outputs": [],
   "source": []
  }
 ],
 "metadata": {
  "kernelspec": {
   "display_name": "Python 3 (ipykernel)",
   "language": "python",
   "name": "python3"
  },
  "language_info": {
   "codemirror_mode": {
    "name": "ipython",
    "version": 3
   },
   "file_extension": ".py",
   "mimetype": "text/x-python",
   "name": "python",
   "nbconvert_exporter": "python",
   "pygments_lexer": "ipython3",
   "version": "3.11.3"
  }
 },
 "nbformat": 4,
 "nbformat_minor": 5
}
